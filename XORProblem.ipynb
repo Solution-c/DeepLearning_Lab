{
 "cells": [
  {
   "cell_type": "code",
   "execution_count": 1,
   "metadata": {},
   "outputs": [
    {
     "name": "stdout",
     "output_type": "stream",
     "text": [
      "input :(0, 0) output:0\n",
      "input :(1, 0) output:1\n",
      "input :(0, 1) output:1\n",
      "input :(1, 1) output:0\n"
     ]
    }
   ],
   "source": [
    "import numpy as np\n",
    "from operator import matmul\n",
    "\n",
    "w1 = np.array([[-2, -2], [2 , 2]])\n",
    "w2 = np.array([1, 1])\n",
    "b1 = np.array([3, -1])\n",
    "b2 = -1\n",
    "\n",
    "def MLP(x, w, b):\n",
    "    y = np.sum(w*x)+b\n",
    "    if y<=0:\n",
    "        return 0\n",
    "    else:\n",
    "        return 1\n",
    "\n",
    "def NAND(x):\n",
    "    return MLP(x, w1[0], b1[0])\n",
    "\n",
    "def OR(x):\n",
    "    return MLP(x, w1[1], b1[1])\n",
    "\n",
    "def AND(x):\n",
    "    return MLP(x, w2, b2)\n",
    "\n",
    "def XOR(x):\n",
    "    return AND(np.array([NAND(x), OR(x)]))\n",
    "\n",
    "\n",
    "for x in [(0,0),(1,0),(0,1),(1,1)]:\n",
    "    y = XOR(x)\n",
    "    print(\"input :\"+str(x)+\" output:\"+str(y))"
   ]
  }
 ],
 "metadata": {
  "kernelspec": {
   "display_name": "Python 3.9.13 ('myvenv': venv)",
   "language": "python",
   "name": "python3"
  },
  "language_info": {
   "codemirror_mode": {
    "name": "ipython",
    "version": 3
   },
   "file_extension": ".py",
   "mimetype": "text/x-python",
   "name": "python",
   "nbconvert_exporter": "python",
   "pygments_lexer": "ipython3",
   "version": "3.9.13"
  },
  "orig_nbformat": 4,
  "vscode": {
   "interpreter": {
    "hash": "47a8131f9de650716caaba4a9f5f64b5371721cbb7aaff418789ecc748786dbb"
   }
  }
 },
 "nbformat": 4,
 "nbformat_minor": 2
}
